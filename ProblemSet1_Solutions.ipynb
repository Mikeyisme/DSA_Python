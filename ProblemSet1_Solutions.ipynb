{
 "cells": [
  {
   "cell_type": "markdown",
   "metadata": {
    "deletable": false,
    "editable": false,
    "nbgrader": {
     "cell_type": "markdown",
     "checksum": "ad785465bd6e0dee4a15d686cd93880b",
     "grade": false,
     "grade_id": "cell-27d462d2397f7586",
     "locked": true,
     "schema_version": 3,
     "solution": false,
     "task": false
    }
   },
   "source": [
    "## Instructions\n",
    "\n",
    "> This assignment is to be completed and uploaded as a python3 notebook. \n"
   ]
  },
  {
   "cell_type": "code",
   "execution_count": null,
   "metadata": {
    "deletable": false,
    "nbgrader": {
     "cell_type": "code",
     "checksum": "89af69d46f1da69fe03174d89400e44c",
     "grade": false,
     "grade_id": "cell-a6c0a4d5a4134433",
     "locked": false,
     "schema_version": 3,
     "solution": true,
     "task": false
    }
   },
   "outputs": [],
   "source": [
    "#First write a \"helper\" function with two extra parameters\n",
    "# left, right that ddedscribes the search region as shown below\n",
    "def findCrossoverIndexHelper(x, y, left, right):\n",
    "    # Note: Output index i such that \n",
    "    #         left <= i <= right\n",
    "    #         x[i] <= y[i]\n",
    "    # First, Write down our invariants as assertions here\n",
    "    assert(len(x) == len(y))\n",
    "    assert(left >= 0)\n",
    "    assert(left <= right-1)\n",
    "    assert(right < len(x))\n",
    "    # Here is the key property we would like to maintain.\n",
    "    assert(x[left] > y[left])\n",
    "    assert(x[right] < y[right])\n",
    "    \n",
    "    # your code here\n",
    "    "
   ]
  },
  {
   "cell_type": "code",
   "execution_count": null,
   "metadata": {
    "deletable": false,
    "nbgrader": {
     "cell_type": "code",
     "checksum": "d95493f5780c7a97837fec4f959e8af3",
     "grade": false,
     "grade_id": "cell-810b29ba85034cdb",
     "locked": false,
     "schema_version": 3,
     "solution": true,
     "task": false
    }
   },
   "outputs": [],
   "source": [
    "#Define the function findCrossoverIndex that wil \n",
    "# call the helper function findCrossoverIndexHelper\n",
    "def findCrossoverIndex(x, y):\n",
    "    assert(len(x) == len(y))\n",
    "    assert(x[0] > y[0])\n",
    "    n = len(x)\n",
    "    assert(x[n-1] < y[n-1]) # Note: this automatically ensures n >= 2 why?\n",
    "    # your code here\n",
    "    "
   ]
  },
  {
   "cell_type": "code",
   "execution_count": null,
   "metadata": {
    "deletable": false,
    "editable": false,
    "nbgrader": {
     "cell_type": "code",
     "checksum": "c479a3765d47cebfff3bea28f160f323",
     "grade": true,
     "grade_id": "cell-27ea82442fc84766",
     "locked": true,
     "points": 10,
     "schema_version": 3,
     "solution": false,
     "task": false
    }
   },
   "outputs": [],
   "source": [
    "# BEGIN TEST CASES\n",
    "j1 = findCrossoverIndex([0, 1, 2, 3, 4, 5, 6, 7], [-2, 0, 4, 5, 6, 7, 8, 9])\n",
    "print('j1 = %d' % j1)\n",
    "assert j1 == 1, \"Test Case # 1 Failed\"\n",
    "\n",
    "j2 = findCrossoverIndex([0, 1, 2, 3, 4, 5, 6, 7], [-2, 0, 4, 4.2, 4.3, 4.5, 8, 9])\n",
    "print('j2 = %d' % j2)\n",
    "assert j2 == 1 or j2 == 5, \"Test Case # 2 Failed\"\n",
    "\n",
    "j3 = findCrossoverIndex([0, 1], [-10, 10])\n",
    "print('j3 = %d' % j3)\n",
    "assert j3 == 0, \"Test Case # 3 failed\"\n",
    "\n",
    "j4 = findCrossoverIndex([0,1, 2, 3], [-10, -9, -8, 5])\n",
    "print('j4 = %d' % j4)\n",
    "assert j4 == 2, \"Test Case # 4 failed\"\n",
    "\n",
    "print('Congratulations: all test cases passed - 10 points')\n",
    "#END TEST CASES"
   ]
  },
  {
   "cell_type": "code",
   "execution_count": null,
   "metadata": {
    "deletable": false,
    "nbgrader": {
     "cell_type": "code",
     "checksum": "9d6cc3fcbd4ae7f926c528021f3a0856",
     "grade": false,
     "grade_id": "cell-f410dccf78d51da9",
     "locked": false,
     "schema_version": 3,
     "solution": true,
     "task": false
    }
   },
   "outputs": [],
   "source": [
    "def integerCubeRootHelper(n, left, right):\n",
    "    cube = lambda x: x * x * x # anonymous function to cube a number\n",
    "    assert(n >= 1)\n",
    "    assert(left < right)\n",
    "    assert(left >= 0)\n",
    "    assert(right < n)\n",
    "    assert(cube(left) < n), f'{left}, {right}'\n",
    "    assert(cube(right) > n), f'{left}, {right}'\n",
    "    # your code here\n",
    "    "
   ]
  },
  {
   "cell_type": "code",
   "execution_count": null,
   "metadata": {
    "deletable": false,
    "editable": false,
    "nbgrader": {
     "cell_type": "code",
     "checksum": "105c8c41a15f7beda6ed455fe832a2de",
     "grade": false,
     "grade_id": "cell-bb634f338e21a0a1",
     "locked": true,
     "schema_version": 3,
     "solution": false,
     "task": false
    }
   },
   "outputs": [],
   "source": [
    "# Write down the main function\n",
    "def integerCubeRoot(n):\n",
    "    assert( n > 0)\n",
    "    if (n == 1): \n",
    "        return 1\n",
    "    if (n == 2):\n",
    "        return 1\n",
    "    return integerCubeRootHelper(n, 0, n-1)"
   ]
  },
  {
   "cell_type": "code",
   "execution_count": null,
   "metadata": {
    "deletable": false,
    "editable": false,
    "nbgrader": {
     "cell_type": "code",
     "checksum": "02cc2d02ecc885f7bbbe7170d7c271c9",
     "grade": true,
     "grade_id": "cell-580fc4f473d646d0",
     "locked": true,
     "points": 10,
     "schema_version": 3,
     "solution": false,
     "task": false
    }
   },
   "outputs": [],
   "source": [
    "assert(integerCubeRoot(1) == 1)\n",
    "assert(integerCubeRoot(2) == 1)\n",
    "assert(integerCubeRoot(4) == 1)\n",
    "assert(integerCubeRoot(7) == 1)\n",
    "assert(integerCubeRoot(8) == 2)\n",
    "assert(integerCubeRoot(20) == 2)\n",
    "assert(integerCubeRoot(26) == 2)\n",
    "for j in range(27, 64):\n",
    "    assert(integerCubeRoot(j) == 3)\n",
    "for j in range(64,125):\n",
    "    assert(integerCubeRoot(j) == 4)\n",
    "for j in range(125, 216):\n",
    "    assert(integerCubeRoot(j) == 5)\n",
    "for j in range(216, 343):\n",
    "    assert(integerCubeRoot(j) == 6)\n",
    "for j in range(343, 512):\n",
    "    assert(integerCubeRoot(j) == 7)\n",
    "print('Congrats: All tests passed! (10 points)')"
   ]
  },
  {
   "cell_type": "code",
   "execution_count": null,
   "metadata": {
    "deletable": false,
    "nbgrader": {
     "cell_type": "code",
     "checksum": "39b7843852f69217e9bb5d6a8c0fd552",
     "grade": false,
     "grade_id": "cell-b379be28c3301856",
     "locked": false,
     "schema_version": 3,
     "solution": true,
     "task": false
    }
   },
   "outputs": [],
   "source": [
    "def twoWayMerge(lst1, lst2):\n",
    "    # Implement the two way merge algorithm on \n",
    "    #          two ascending order sorted lists\n",
    "    # return a fresh ascending order sorted list that \n",
    "    #          merges lst1 and lst2\n",
    "    # your code here\n",
    "    "
   ]
  },
  {
   "cell_type": "code",
   "execution_count": null,
   "metadata": {
    "deletable": false,
    "editable": false,
    "nbgrader": {
     "cell_type": "code",
     "checksum": "7a334b5ccf7eb92c357fea6e439a53d1",
     "grade": false,
     "grade_id": "cell-1eaca090fa714ddb",
     "locked": true,
     "schema_version": 3,
     "solution": false,
     "task": false
    }
   },
   "outputs": [],
   "source": [
    "# given a list_of_lists as input, \n",
    "#   if list_of_lists has 2 or more lists, \n",
    "#        compute 2 way merge on elements i, i+1 for i = 0, 2, ...\n",
    "#   return new list of lists after the merge\n",
    "#   Handle the case when the list size is odd carefully.\n",
    "def oneStepKWayMerge(list_of_lists):\n",
    "    if (len(list_of_lists) <= 1):\n",
    "        return list_of_lists\n",
    "    ret_list_of_lists = []\n",
    "    k = len(list_of_lists)\n",
    "    for i in range(0, k, 2):\n",
    "        if (i < k-1):\n",
    "            ret_list_of_lists.append(twoWayMerge(list_of_lists[i], list_of_lists[i+1]))\n",
    "        else: \n",
    "            ret_list_of_lists.append(list_of_lists[k-1])\n",
    "    return ret_list_of_lists\n",
    "    "
   ]
  },
  {
   "cell_type": "code",
   "execution_count": null,
   "metadata": {
    "deletable": false,
    "editable": false,
    "nbgrader": {
     "cell_type": "code",
     "checksum": "a29e1bae56bd62e3dae714b5a97244be",
     "grade": false,
     "grade_id": "cell-0637480c11d29450",
     "locked": true,
     "schema_version": 3,
     "solution": false,
     "task": false
    }
   },
   "outputs": [],
   "source": [
    "# Given a list of lists wherein each \n",
    "#    element of list_of_lists is sorted in ascending order,\n",
    "# use the oneStepKWayMerge function repeatedly to merge them.\n",
    "# Return a single merged list that is sorted in ascending order.\n",
    "def kWayMerge(list_of_lists):\n",
    "    k = len(list_of_lists)\n",
    "    if k == 1:\n",
    "        return list_of_lists[0]\n",
    "    else:\n",
    "        new_list_of_lists = oneStepKWayMerge(list_of_lists)\n",
    "        return kWayMerge(new_list_of_lists)"
   ]
  },
  {
   "cell_type": "code",
   "execution_count": null,
   "metadata": {
    "deletable": false,
    "editable": false,
    "nbgrader": {
     "cell_type": "code",
     "checksum": "904605d5e4e8b4a23e46bbd94eb8f240",
     "grade": true,
     "grade_id": "cell-b4cf5a943c483a70",
     "locked": true,
     "points": 15,
     "schema_version": 3,
     "solution": false,
     "task": false
    }
   },
   "outputs": [],
   "source": [
    "# BEGIN TESTS\n",
    "lst1= kWayMerge([[1,2,3], [4,5,7],[-2,0,6],[5]])\n",
    "assert lst1 == [-2, 0, 1, 2, 3, 4, 5, 5, 6, 7], \"Test 1 failed\"\n",
    "\n",
    "lst2 = kWayMerge([[-2, 4, 5 , 8], [0, 1, 2], [-1, 3,6,7]])\n",
    "assert lst2 == [-2, -1, 0, 1, 2, 3, 4, 5, 6, 7, 8], \"Test 2 failed\"\n",
    "\n",
    "lst3 = kWayMerge([[-1, 1, 2, 3, 4, 5]])\n",
    "assert lst3 == [-1, 1, 2, 3, 4, 5], \"Test 3 Failed\"\n",
    "\n",
    "print('All Tests Passed = 15 points')\n",
    "#END TESTS"
   ]
  }
 ],
 "metadata": {
  "kernelspec": {
   "display_name": "Python 3.8.10 64-bit",
   "language": "python",
   "name": "python3"
  },
  "language_info": {
   "codemirror_mode": {
    "name": "ipython",
    "version": 3
   },
   "file_extension": ".py",
   "mimetype": "text/x-python",
   "name": "python",
   "nbconvert_exporter": "python",
   "pygments_lexer": "ipython3",
   "version": "3.8.10"
  },
  "vscode": {
   "interpreter": {
    "hash": "52c46b80d2f26c8171203bff43d1eb74171e3ea236fe3a354ce8dae3e11ca492"
   }
  }
 },
 "nbformat": 4,
 "nbformat_minor": 4
}
