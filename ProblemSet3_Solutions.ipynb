{
 "cells": [
  {
   "cell_type": "markdown",
   "metadata": {
    "deletable": false,
    "editable": false,
    "nbgrader": {
     "cell_type": "markdown",
     "checksum": "0bda1d3ef9687bb65bc14a56c24df052",
     "grade": false,
     "grade_id": "cell-21fe58f9d26514ca",
     "locked": true,
     "schema_version": 3,
     "solution": false,
     "task": false
    }
   },
   "source": [
    "# Assignment 3 \n",
    "\n",
    "## Problem 1: Design a Correct Partition Algorithm\n",
    "\n",
    "You are given code below for an incorrect partition algorithm that fails to partition arrays wrongly or cause out of bounds access in arrays.  The comments include the invariants the algorithm wishes to maintain and will help you debug.\n",
    "\n",
    "Your goal is to write test cases that demonstrate that the partitioning will fail in various ways.\n"
   ]
  },
  {
   "cell_type": "code",
   "execution_count": null,
   "metadata": {
    "deletable": false,
    "editable": false,
    "nbgrader": {
     "cell_type": "code",
     "checksum": "25aea318409659a93e8142198c7dcdb6",
     "grade": false,
     "grade_id": "cell-0debc539ee455c8d",
     "locked": true,
     "schema_version": 3,
     "solution": false,
     "task": false
    }
   },
   "outputs": [],
   "source": [
    "def swap(a, i, j):\n",
    "    assert 0 <= i < len(a), f'accessing index {i} beyond end of array {len(a)}'\n",
    "    assert 0 <= j < len(a), f'accessing index {j} beyond end of array {len(a)}'\n",
    "    a[i], a[j] = a[j], a[i]\n",
    "\n",
    "def tryPartition(a):\n",
    "    # implementation of Lomuto partitioning algorithm\n",
    "    n = len(a)\n",
    "    pivot = a[n-1] # choose last element as the pivot.\n",
    "    i,j = 0,0 # initialize i and j both to be 0\n",
    "    for j in range(n-1): # j = 0 to n-2 (inclusive)\n",
    "        # Invariant: a[0] .. a[i] are <= pivot\n",
    "        #            a[i+1]...a[j-1] are > pivot\n",
    "        if a[j] <= pivot: \n",
    "            swap(a, i+1, j)\n",
    "            i = i + 1\n",
    "    swap(a, i+1, n-1) # place pivot in its correct place.\n",
    "    return i+1 # return the index where we placed the pivot"
   ]
  },
  {
   "cell_type": "markdown",
   "metadata": {
    "deletable": false,
    "editable": false,
    "nbgrader": {
     "cell_type": "markdown",
     "checksum": "ed12e625c008773974cf80a34964b5ec",
     "grade": false,
     "grade_id": "cell-f5e5ddbbae4ed87c",
     "locked": true,
     "schema_version": 3,
     "solution": false,
     "task": false
    }
   },
   "source": [
    "First write a function that will return True if an array is correctly partitioned at index `k`. I.e, all elements at indices `< k` are all `<= a[k]` and all elements indices `> k` are all `> a[k]`"
   ]
  },
  {
   "cell_type": "code",
   "execution_count": null,
   "metadata": {
    "deletable": false,
    "nbgrader": {
     "cell_type": "code",
     "checksum": "251707c02123afdd8e190ea35b07faf1",
     "grade": false,
     "grade_id": "cell-0e3595d188545bc8",
     "locked": false,
     "schema_version": 3,
     "solution": true,
     "task": false
    }
   },
   "outputs": [],
   "source": [
    "def testIfPartitioned(a, k):\n",
    "    # TODO : test if all elements at indices < k are all <= a[k]\n",
    "    #         and all elements at indices > k are all > a[k]\n",
    "    # return TRUE if the array is correctly partitioned around a[k] and return FALSE otherwise\n",
    "    assert 0 <= k < len(a)\n",
    "    # your code here\n",
    "    "
   ]
  },
  {
   "cell_type": "code",
   "execution_count": null,
   "metadata": {
    "deletable": false,
    "editable": false,
    "nbgrader": {
     "cell_type": "code",
     "checksum": "d97849365bca117834d047b818c5b0f0",
     "grade": true,
     "grade_id": "cell-9bbed3588a211427",
     "locked": true,
     "points": 10,
     "schema_version": 3,
     "solution": false,
     "task": false
    }
   },
   "outputs": [],
   "source": [
    "assert testIfPartitioned([-1, 5, 2, 3, 4, 8, 9, 14, 10, 23],5) == True, ' Test # 1 failed.'\n",
    "assert testIfPartitioned([-1, 5, 2, 3, 4, 8, 9, 14, 11, 23],4) == False, ' Test # 2 failed.'\n",
    "assert testIfPartitioned([-1, 5, 2, 3, 4, 8, 9, 14, 23, 21],0) == True, ' Test # 3 failed.'\n",
    "assert testIfPartitioned([-1, 5, 2, 3, 4, 8, 9, 14, 22, 23],9) == True, ' Test # 4 failed.'\n",
    "assert testIfPartitioned([-1, 5, 2, 3, 4, 8, 9, 14, 8, 23],5) == False, ' Test # 5 failed.'\n",
    "assert testIfPartitioned([-1, 5, 2, 3, 4, 8, 9, 13, 9, -11],5) == False, ' Test # 6 failed.'\n",
    "assert testIfPartitioned([4, 4, 4, 4, 4, 8, 9, 13, 9, 11],4) == True, ' Test # 7 failed.'\n",
    "print('Passed all tests (10 points)')"
   ]
  },
  {
   "cell_type": "code",
   "execution_count": null,
   "metadata": {
    "deletable": false,
    "nbgrader": {
     "cell_type": "code",
     "checksum": "048709275297da79377c8b4ad5ca462e",
     "grade": false,
     "grade_id": "cell-7b4f2e1aeeee1373",
     "locked": false,
     "schema_version": 3,
     "solution": true,
     "task": false
    }
   },
   "outputs": [],
   "source": [
    "# Write an array called a1 that will be incorrectly partitioned by the tryPartition algorithm above\n",
    "# Your input when run on tryPartition algorithm should raise an out of bounds array access exception\n",
    "# in the swap function or fail to partition correctly. \n",
    "\n",
    "## Define an array a1 below of length > 0 that will be incorrectly partitioned by tryPartition algorithm.\n",
    "## We will test whether your solution works in the subsequent cells.\n",
    "# your code here\n",
    "\n",
    "assert( len(a1) > 0)\n",
    "\n",
    "# Write an array called a2 that will be incorrectly partitioned by the tryPartition algorithm above\n",
    "# Your input when run on tryPartition algorithm should raise an out of bounds array access exception\n",
    "# in the swap function or fail to partition correctly. \n",
    "# a2 must be different from a1\n",
    "\n",
    "# your code here\n",
    "\n",
    "assert( len(a2) > 0)\n",
    "assert (a1 != a2)\n",
    "\n",
    "\n",
    "# Write an array called a3 that will be incorrectly partitioned by the tryPartition algorithm above\n",
    "# Your input when run on tryPartition algorithm should raise an out of bounds array access exception\n",
    "# in the swap function or fail to partition correctly. \n",
    "# a3 must be different from a1, a2\n",
    "\n",
    "# your code here\n",
    "\n",
    "assert( len(a3) > 0)\n",
    "assert (a3 != a2)\n",
    "assert (a3 != a1)\n",
    "\n",
    "def dummyFunction():\n",
    "    pass\n"
   ]
  },
  {
   "cell_type": "code",
   "execution_count": null,
   "metadata": {
    "deletable": false,
    "nbgrader": {
     "cell_type": "code",
     "checksum": "e3371d4627bb7ca284345238c6ea9886",
     "grade": false,
     "grade_id": "cell-074a527ab9550d6b",
     "locked": false,
     "schema_version": 3,
     "solution": true,
     "task": false
    }
   },
   "outputs": [],
   "source": [
    "# your code here\n"
   ]
  },
  {
   "cell_type": "code",
   "execution_count": null,
   "metadata": {
    "deletable": false,
    "editable": false,
    "nbgrader": {
     "cell_type": "code",
     "checksum": "9e898a699440a1bb73e956339c18dabd",
     "grade": true,
     "grade_id": "cell-b893840d1eabfef0",
     "locked": true,
     "points": 5,
     "schema_version": 3,
     "solution": false,
     "task": false
    }
   },
   "outputs": [],
   "source": [
    "try:\n",
    "    j1 = tryPartition(a1)\n",
    "    assert not testIfPartitioned(a1, j1)\n",
    "    print('Partitioning was unsuccessful - this is what you were asked to break the code')\n",
    "except Exception as e: \n",
    "    print(f'Assertion failed {e} - this is fine since you were asked to break the code.')\n",
    "    \n",
    "try:\n",
    "    j2 = tryPartition(a2)\n",
    "    assert not testIfPartitioned(a2, j2)\n",
    "except Exception as e: \n",
    "    print(f'Assertion failed {e} - this is fine since you were asked to break the code.')\n",
    "    \n",
    "\n",
    "try:\n",
    "    j3 = tryPartition(a3)\n",
    "    assert not testIfPartitioned(a3, j3)\n",
    "except Exception as e: \n",
    "    print(f'Assertion failed {e} - this is fine since you were asked to break the code.')\n",
    "    \n",
    "dummyFunction()\n",
    "\n",
    "print('Passed 5 points!')\n"
   ]
  },
  {
   "cell_type": "markdown",
   "metadata": {
    "deletable": false,
    "editable": false,
    "nbgrader": {
     "cell_type": "markdown",
     "checksum": "1cd8b9842421475faeaf77b306bc45ac",
     "grade": false,
     "grade_id": "cell-83bd721a249c586a",
     "locked": true,
     "schema_version": 3,
     "solution": false,
     "task": false
    }
   },
   "source": [
    "## Part B \n",
    "Complete the implementation of a function `boundedSort(a, k)` by completing the `simplePatition` function. Given an array `a` and a fixed `pivot` element, it should partition the array \"in-place\" so that all elements `<= pivot` are on one side of the array and elements `> pivot` on the other.  You should not create a new array in your code."
   ]
  },
  {
   "cell_type": "code",
   "execution_count": null,
   "metadata": {
    "deletable": false,
    "nbgrader": {
     "cell_type": "code",
     "checksum": "1f48577604926382d27f624100096eda",
     "grade": false,
     "grade_id": "cell-6df8a59d82deaa25",
     "locked": false,
     "schema_version": 3,
     "solution": true,
     "task": false
    }
   },
   "outputs": [],
   "source": [
    "\n",
    "def swap(a, i, j):\n",
    "    assert 0 <= i < len(a), f'accessing index {i} beyond end of array {len(a)}'\n",
    "    assert 0 <= j < len(a), f'accessing index {j} beyond end of array {len(a)}'\n",
    "    a[i], a[j] = a[j], a[i]\n",
    "\n",
    "def simplePartition(a, pivot):\n",
    "    ## To do: partition the array a according to pivot.\n",
    "    # Your array must be partitioned into two regions - <= pivot followed by elements > pivot\n",
    "    ## If an element at the beginning of the array is already <= pivot in the beginning of the array, it should not\n",
    "    ## be moved by the algorithm.\n",
    "    # your code here\n",
    "    \n",
    "            \n",
    "def boundedSort(a, k):\n",
    "    for j in range(1, k):\n",
    "        simplePartition(a, j)\n"
   ]
  },
  {
   "cell_type": "code",
   "execution_count": null,
   "metadata": {
    "deletable": false,
    "editable": false,
    "nbgrader": {
     "cell_type": "code",
     "checksum": "07668380018a8024a6e0f1d7132eca67",
     "grade": true,
     "grade_id": "cell-5e544036bd8af86f",
     "locked": true,
     "points": 10,
     "schema_version": 3,
     "solution": false,
     "task": false
    }
   },
   "outputs": [],
   "source": [
    "a = [1, 3, 6, 1, 5, 4, 1, 1, 2, 3, 3, 1, 3, 5, 2, 2, 4]\n",
    "print(a)\n",
    "simplePartition(a, 1)\n",
    "print(a)\n",
    "assert(a[:5] == [1,1,1,1,1]), 'Simple partition test 1 failed'\n",
    "\n",
    "simplePartition(a, 2)\n",
    "print(a)\n",
    "assert(a[:5] == [1,1,1,1,1]), 'Simple partition test 2(A) failed'\n",
    "assert(a[5:8] == [2,2,2]), 'Simple Partition test 2(B) failed'\n",
    "\n",
    "\n",
    "simplePartition(a, 3)\n",
    "print(a)\n",
    "assert(a[:5] == [1,1,1,1,1]), 'Simple partition test 3(A) failed'\n",
    "assert(a[5:8] == [2,2,2]), 'Simple Partition test 3(B) failed'\n",
    "assert(a[8:12] == [3,3,3,3]), 'Simple Partition test 3(C) failed'\n",
    "\n",
    "simplePartition(a, 4)\n",
    "print(a)\n",
    "assert(a[:5] == [1,1,1,1,1]), 'Simple partition test 4(A) failed'\n",
    "assert(a[5:8] == [2,2,2]), 'Simple Partition test 4(B) failed'\n",
    "assert(a[8:12] == [3,3,3,3]), 'Simple Partition test 4(C) failed'\n",
    "assert(a[12:14]==[4,4]), 'Simple Partition test 4(D) failed'\n",
    "\n",
    "simplePartition(a, 5)\n",
    "print(a)\n",
    "assert(a == [1]*5+[2]*3+[3]*4+[4]*2+[5]*2+[6]), 'Simple Parition test 5 failed'\n",
    "\n",
    "print('Passed all tests : 10 points!')"
   ]
  },
  {
   "cell_type": "markdown",
   "metadata": {
    "deletable": false,
    "editable": false,
    "nbgrader": {
     "cell_type": "markdown",
     "checksum": "af5764e23535a90042a4d2eae1399533",
     "grade": false,
     "grade_id": "cell-288fa6c7efea8621",
     "locked": true,
     "schema_version": 3,
     "solution": false,
     "task": false
    }
   },
   "source": [
    "## Problem 3: Design a Universal Family Hash Function"
   ]
  },
  {
   "cell_type": "code",
   "execution_count": null,
   "metadata": {
    "deletable": false,
    "nbgrader": {
     "cell_type": "code",
     "checksum": "697f3c4a15b96784bb811130974e7e7d",
     "grade": false,
     "grade_id": "cell-85c7cffad8d9a09f",
     "locked": false,
     "schema_version": 3,
     "solution": true,
     "task": false
    }
   },
   "outputs": [],
   "source": [
    "from random import random\n",
    "\n",
    "def dot_product(lst_a, lst_b):\n",
    "    and_list = [elt_a * elt_b for (elt_a, elt_b) in zip(lst_a, lst_b)]\n",
    "    return 0 if sum(and_list)% 2 == 0 else 1\n",
    "\n",
    "# encode a matrix as a list of lists with each row as a list.\n",
    "# for instance, the example above is written as the matrix\n",
    "# H = [[0,1,0,1],[1,0,0,0],[1,0,1,1]]\n",
    "# encode column vectors simply as a list of elements.\n",
    "# you can use the dot_product function provided to you.\n",
    "def matrix_multiplication(H, lst):\n",
    "    # your code here\n",
    "    \n",
    "\n",
    "# Generate a random m \\times n matrix\n",
    "# see the comment next to matrix_multiplication for how your matrix must be returned.\n",
    "def return_random_hash_function(m, n):\n",
    "    # return a random hash function wherein each entry is chosen as 1 with probability >= 1/2 and 0 with probability < 1/2\n",
    "    # your code here\n",
    "    \n"
   ]
  },
  {
   "cell_type": "code",
   "execution_count": null,
   "metadata": {
    "deletable": false,
    "editable": false,
    "nbgrader": {
     "cell_type": "code",
     "checksum": "46a6647d44a81e7c9c0bd546b453f86c",
     "grade": true,
     "grade_id": "cell-bd850b7eafce8a18",
     "locked": true,
     "points": 10,
     "schema_version": 3,
     "solution": false,
     "task": false
    }
   },
   "outputs": [],
   "source": [
    "A1 = [[0,1,0,1],[1,0,0,0],[1,0,1,1]]\n",
    "b1 = [1,1,1,0]\n",
    "c1 = matrix_multiplication(A1, b1)\n",
    "print('c1=', c1)\n",
    "assert c1 == [1,1,0] , 'Test 1 failed'\n",
    "\n",
    "A2 = [ [1,1],[0,1]]\n",
    "b2 = [1,0]\n",
    "c2 = matrix_multiplication(A2, b2)\n",
    "print('c2=', c2)\n",
    "assert c2 == [1, 0], 'Test 2 failed'\n",
    "\n",
    "A3 = [ [1,1,1,0],[0,1,1,0]]\n",
    "b3 =  [1, 0,0,1]\n",
    "c3 = matrix_multiplication(A3, b3)\n",
    "print('c3=', c3)\n",
    "assert c3 == [1, 0], 'Test 3 failed'\n",
    "\n",
    "H = return_random_hash_function(5,4)\n",
    "print('H=', H)\n",
    "assert len(H) == 5, 'Test 5 failed'\n",
    "assert all(len(row) == 4 for row in H), 'Test 6 failed'\n",
    "assert all(elt == 0 or elt == 1 for row in H for elt in row ),  'Test 7 failed'\n",
    "\n",
    "H2 = return_random_hash_function(6,3)\n",
    "print('H2=', H2)\n",
    "assert len(H2) == 6, 'Test 8 failed'\n",
    "assert all(len(row) == 3 for row in H2),  'Test 9 failed'\n",
    "assert all(elt == 0 or elt == 1 for row in H2 for elt in row ), 'Test 10 failed'\n",
    "print('Tests passed: 10 points!')"
   ]
  }
 ],
 "metadata": {
  "kernelspec": {
   "display_name": "Python 3",
   "language": "python",
   "name": "python3"
  },
  "language_info": {
   "codemirror_mode": {
    "name": "ipython",
    "version": 3
   },
   "file_extension": ".py",
   "mimetype": "text/x-python",
   "name": "python",
   "nbconvert_exporter": "python",
   "pygments_lexer": "ipython3",
   "version": "3.7.6"
  }
 },
 "nbformat": 4,
 "nbformat_minor": 4
}
